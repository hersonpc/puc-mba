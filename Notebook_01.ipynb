{
  "nbformat": 4,
  "nbformat_minor": 0,
  "metadata": {
    "colab": {
      "name": "PUC - Estatística Exercicio 01.ipynb",
      "private_outputs": true,
      "provenance": [],
      "toc_visible": true,
      "authorship_tag": "ABX9TyPm90J9/jTfB6VzG3FpX7/6",
      "include_colab_link": true
    },
    "kernelspec": {
      "name": "python3",
      "display_name": "Python 3"
    },
    "language_info": {
      "name": "python"
    }
  },
  "cells": [
    {
      "cell_type": "markdown",
      "metadata": {
        "id": "view-in-github",
        "colab_type": "text"
      },
      "source": [
        "<a href=\"https://colab.research.google.com/github/hersonpc/puc-mba/blob/main/Notebook_01.ipynb\" target=\"_parent\"><img src=\"https://colab.research.google.com/assets/colab-badge.svg\" alt=\"Open In Colab\"/></a>"
      ]
    },
    {
      "cell_type": "markdown",
      "metadata": {
        "id": "Yzedc99jP-Ql"
      },
      "source": [
        "# ANALISE DE DADOS: **DELIVERY**\n",
        "\n",
        "\n",
        "---\n",
        "\n",
        "\n",
        "Instituicao: **PUC**  \n",
        "Curso: **MBA em Ciencia de Dados**  \n",
        "Turma: **2021.1-MBACD**  \n",
        "Materia: **PROBABILIDADE E ESTATÍSTICA**\n",
        "\n",
        "Alunos:  \n",
        "- Herson Peraira Cordeiro de Melo | hersonpc@gmail.com\n",
        "- Kesley Brenner \n",
        "- Arione Chaves G. Junior\n",
        "- Alexandre Matos\n",
        "\n",
        "\n",
        "---\n",
        "\n"
      ]
    },
    {
      "cell_type": "code",
      "metadata": {
        "id": "Gs6yTBqBYh5C"
      },
      "source": [
        "import pandas as pd\n",
        "import seaborn as sns\n",
        "\n",
        "sns.set(rc={'figure.figsize':(16,6)})"
      ],
      "execution_count": null,
      "outputs": []
    },
    {
      "cell_type": "markdown",
      "metadata": {
        "id": "BOBIu9gyRCYo"
      },
      "source": [
        "## Carga de dados"
      ]
    },
    {
      "cell_type": "code",
      "metadata": {
        "id": "i6GozgY-RmCj"
      },
      "source": [
        "# Obtendo os dados para o Colab\n",
        "! wget https://raw.githubusercontent.com/hersonpc/puc-mba/main/data/dados-delivery.csv"
      ],
      "execution_count": null,
      "outputs": []
    },
    {
      "cell_type": "markdown",
      "metadata": {
        "id": "3LQTvsiSRICV"
      },
      "source": [
        "## Estatistica descritiva"
      ]
    },
    {
      "cell_type": "code",
      "metadata": {
        "id": "-YOvSef1Yd5v"
      },
      "source": [
        "df = pd.read_csv('dados-delivery.csv')\n",
        "df"
      ],
      "execution_count": null,
      "outputs": []
    },
    {
      "cell_type": "code",
      "metadata": {
        "id": "WZO3FS1onRiR"
      },
      "source": [
        "a = df.groupby(['dia-da-semana']).size()\n",
        "#a.index\n",
        "#a['label'] = a.index\n",
        "\n",
        "a.plot.pie(figsize=(8,8))"
      ],
      "execution_count": null,
      "outputs": []
    },
    {
      "cell_type": "code",
      "metadata": {
        "id": "js-EX56vPztX"
      },
      "source": [
        ""
      ],
      "execution_count": null,
      "outputs": []
    },
    {
      "cell_type": "markdown",
      "metadata": {
        "id": "CkauvoyCRWrM"
      },
      "source": [
        "## Analises estatisticas"
      ]
    },
    {
      "cell_type": "markdown",
      "metadata": {
        "id": "cGTk4l3FPgOt"
      },
      "source": [
        "### Analise de Covariancia"
      ]
    },
    {
      "cell_type": "code",
      "metadata": {
        "id": "x317UttDPlf7"
      },
      "source": [
        "df.cov()['tempo-entrega-real']['avaliacao']"
      ],
      "execution_count": null,
      "outputs": []
    },
    {
      "cell_type": "markdown",
      "metadata": {
        "id": "7V7LIyuXPuyx"
      },
      "source": [
        "### Analise de Correlacao\n"
      ]
    },
    {
      "cell_type": "code",
      "metadata": {
        "id": "Uqr1EknhA-D-"
      },
      "source": [
        "df.corr(method='pearson')"
      ],
      "execution_count": null,
      "outputs": []
    },
    {
      "cell_type": "code",
      "metadata": {
        "id": "fgnqa8GrEL4m"
      },
      "source": [
        "sns.scatterplot(x=df['tempo-entrega-real'], y=df['avaliacao'])"
      ],
      "execution_count": null,
      "outputs": []
    },
    {
      "cell_type": "markdown",
      "metadata": {
        "id": "OMjNuT_2UJMS"
      },
      "source": [
        "## Exercicios"
      ]
    },
    {
      "cell_type": "markdown",
      "metadata": {
        "id": "duA1m8w9UVNF"
      },
      "source": [
        "#### 1) Crie uma nova coluna de dados representando a diferenca entre o tempo real de entrega e tempo previsto"
      ]
    },
    {
      "cell_type": "code",
      "metadata": {
        "id": "h4P5-L_nUNsY"
      },
      "source": [
        "df['diff-tempo'] = df['tempo-entrega-real'] - df['tempo-entrega']\n",
        "df"
      ],
      "execution_count": null,
      "outputs": []
    },
    {
      "cell_type": "markdown",
      "metadata": {
        "id": "3Lr5waVDUgIT"
      },
      "source": [
        "#### 2) Filtre apenas os registros em que houve atraso"
      ]
    },
    {
      "cell_type": "code",
      "metadata": {
        "id": "yFZ_Gy9lWZam"
      },
      "source": [
        "# filtrando onde a diferenca de tempo for superior a zero, pois menor que zero significa que a entrega foi antes ou dentro do prazo\n",
        "df_atrasados = df[df['diff-tempo']>0]\n",
        "df_atrasados"
      ],
      "execution_count": null,
      "outputs": []
    },
    {
      "cell_type": "markdown",
      "metadata": {
        "id": "RY4WbZMqWZmc"
      },
      "source": [
        "#### 3) Verifique a variancia e a correlacao entre a nova variavel e a avalicacao do pedido"
      ]
    },
    {
      "cell_type": "code",
      "metadata": {
        "id": "-WGRRM_hWlnI"
      },
      "source": [
        "# Checando a corvariancia\n",
        "df_atrasados.cov()['diff-tempo']['avaliacao']"
      ],
      "execution_count": null,
      "outputs": []
    },
    {
      "cell_type": "code",
      "metadata": {
        "id": "7gtWc7edXuLF"
      },
      "source": [
        "# Checando a correlacao\n",
        "df_atrasados.corr(method='pearson')"
      ],
      "execution_count": null,
      "outputs": []
    },
    {
      "cell_type": "code",
      "metadata": {
        "id": "TLeAlB7IX5E4"
      },
      "source": [
        "sns.scatterplot(x=df_atrasados['diff-tempo'], y=df_atrasados['avaliacao'])"
      ],
      "execution_count": null,
      "outputs": []
    },
    {
      "cell_type": "code",
      "metadata": {
        "id": "kfY-3vYnYShw"
      },
      "source": [
        "sns.regplot(x=df_atrasados[\"diff-tempo\"], y=df_atrasados[\"avaliacao\"])"
      ],
      "execution_count": null,
      "outputs": []
    }
  ]
}